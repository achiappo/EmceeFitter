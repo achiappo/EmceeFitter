{
 "cells": [
  {
   "cell_type": "code",
   "execution_count": 1,
   "metadata": {},
   "outputs": [],
   "source": [
    "import numpy as np\n",
    "import matplotlib.pyplot as plt\n",
    "import matplotlib.dates as mdates\n",
    "import matplotlib.ticker as mtick\n",
    "\n",
    "import os\n",
    "import pandas as pd\n",
    "\n",
    "from scipy import optimize as sciopt\n",
    "from scipy import stats as scists\n",
    "from datetime import datetime, timedelta\n",
    "\n",
    "%matplotlib inline"
   ]
  },
  {
   "cell_type": "code",
   "execution_count": 2,
   "metadata": {},
   "outputs": [],
   "source": [
    "virdata = '../../COVID-19/dati-andamento-nazionale/dpc-covid19-ita-andamento-nazionale.csv'\n",
    "\n",
    "dfnazione = pd.read_csv(virdata, encoding = \"ISO-8859-1\")\n",
    "giorni = dfnazione['data'].unique()\n",
    "dfnazione.index = dfnazione['data']\n",
    "del dfnazione['data']\n",
    "\n",
    "dfnazione.reset_index(inplace=True)\n",
    "\n",
    "dfstato = dfnazione.drop(['stato'], axis=1)\n",
    "dfstato['data'] = pd.to_datetime(dfstato['data']).dt.date\n",
    "\n",
    "xdate = dfstato['data'].to_numpy()\n",
    "ycasi = dfstato['totale_casi'].to_numpy()\n",
    "date = mdates.date2num(xdate)\n"
   ]
  },
  {
   "cell_type": "code",
   "execution_count": 3,
   "metadata": {},
   "outputs": [],
   "source": [
    "def parsigm(x, a, b, c):\n",
    "    return a / (b + np.exp(-x/c))\n",
    "\n",
    "par_sci = sciopt.curve_fit(f=parsigm, xdata=date-min(date), ydata=ycasi, p0=[400,0,4])[0]"
   ]
  },
  {
   "cell_type": "code",
   "execution_count": 4,
   "metadata": {},
   "outputs": [],
   "source": [
    "from EmceeFitter import EmceeChi2Fitter as ECF\n",
    "\n",
    "ranges = {'a':(0,1e3), 'b':(0,1e3), 'c':(0,1e3)}\n",
    "\n",
    "ecf = ECF(parsigm, date-min(date), ycasi, ranges=ranges)\n",
    "\n",
    "par_emc = ecf(nw=200, ns=5000)[0]"
   ]
  },
  {
   "cell_type": "code",
   "execution_count": 5,
   "metadata": {},
   "outputs": [
    {
     "name": "stdout",
     "output_type": "stream",
     "text": [
      "[4.09675121e+02 5.48595982e-03 4.44168221e+00]\n",
      "[5.39591831e+02 5.72534260e-03 4.88154097e+00]\n"
     ]
    }
   ],
   "source": [
    "print(par_emc)\n",
    "print(par_sci)"
   ]
  },
  {
   "cell_type": "code",
   "execution_count": 6,
   "metadata": {},
   "outputs": [
    {
     "data": {
      "text/plain": [
       "1040.18831532183"
      ]
     },
     "execution_count": 6,
     "metadata": {},
     "output_type": "execute_result"
    }
   ],
   "source": [
    "casi_sci = parsigm(date-min(date),*par_sci)\n",
    "chi_sci = scists.chisquare(ycasi, casi_sci, ddof=len(par_sci))[0]\n",
    "chi_sci"
   ]
  },
  {
   "cell_type": "code",
   "execution_count": 7,
   "metadata": {},
   "outputs": [
    {
     "data": {
      "text/plain": [
       "586.4099986075062"
      ]
     },
     "execution_count": 7,
     "metadata": {},
     "output_type": "execute_result"
    }
   ],
   "source": [
    "casi_emc = parsigm(date-min(date),*par_emc)\n",
    "chi_emc = scists.chisquare(ycasi, casi_emc, ddof=len(par_emc))[0]\n",
    "chi_emc"
   ]
  },
  {
   "cell_type": "code",
   "execution_count": 9,
   "metadata": {},
   "outputs": [
    {
     "name": "stdout",
     "output_type": "stream",
     "text": [
      "[4.09647586e+02 5.48669592e-03 4.44138924e+00] 586.4108837128908\n",
      "[4.09640998e+02 5.48664656e-03 4.44143878e+00] 586.4103350302236\n",
      "[4.09637905e+02 5.48619172e-03 4.44146504e+00] 586.4101173704925\n",
      "[4.09688529e+02 5.48563353e-03 4.44170390e+00] 586.4099952512369\n",
      "[4.09806661e+02 5.48569103e-03 4.44222936e+00] 586.4103603180068\n",
      "[4.09703477e+02 5.48634583e-03 4.44172603e+00] 586.4098481082581\n",
      "[4.09774367e+02 5.48559066e-03 4.44208915e+00] 586.4101000954018\n",
      "[4.09744114e+02 5.48561030e-03 4.44197054e+00] 586.4099480814228\n",
      "[4.09706992e+02 5.48551372e-03 4.44180503e+00] 586.4099428926611\n",
      "[4.09705267e+02 5.48580064e-03 4.44179666e+00] 586.4098274747062\n"
     ]
    }
   ],
   "source": [
    "ranges = {'a':(0,1000), 'b':(0,1), 'c':(0,10)}\n",
    "\n",
    "ecf = ECF(parsigm, date-min(date), ycasi, ranges=ranges)\n",
    "\n",
    "chis = []\n",
    "for nn in range(10):\n",
    "    par_emc = ecf(nw=200, ns=(nn+1)*1000)[0]\n",
    "    casi_emc = parsigm(date-min(date),*par_emc)\n",
    "    chi_emc = scists.chisquare(ycasi, casi_emc, ddof=len(par_emc))[0]\n",
    "    chis.append(chi_emc)\n",
    "    print(par_emc, chi_emc)"
   ]
  },
  {
   "cell_type": "code",
   "execution_count": 24,
   "metadata": {},
   "outputs": [
    {
     "data": {
      "image/png": "[encoded data removed]",
      "text/plain": [
       "<Figure size 432x288 with 1 Axes>"
      ]
     },
     "metadata": {
      "needs_background": "light"
     },
     "output_type": "display_data"
    }
   ],
   "source": [
    "plt.plot(range(10), chis, '.');\n",
    "plt.ylim(586.4095, 586.4115);"
   ]
  }
 ],
 "metadata": {
  "kernelspec": {
   "display_name": "Python 3",
   "language": "python",
   "name": "python3"
  },
  "language_info": {
   "codemirror_mode": {
    "name": "ipython",
    "version": 3
   },
   "file_extension": ".py",
   "mimetype": "text/x-python",
   "name": "python",
   "nbconvert_exporter": "python",
   "pygments_lexer": "ipython3",
   "version": "3.7.3"
  }
 },
 "nbformat": 4,
 "nbformat_minor": 2
}
